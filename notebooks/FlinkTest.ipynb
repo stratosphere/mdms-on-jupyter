{
 "cells": [
  {
   "cell_type": "code",
   "execution_count": null,
   "metadata": {
    "collapsed": false
   },
   "outputs": [],
   "source": [
    "classpath.add(\"org.apache.flink\" %% \"flink-scala\" % \"0.10.2\")\n",
    "classpath.add(\"org.apache.flink\" %% \"flink-clients\" % \"0.10.2\")"
   ]
  },
  {
   "cell_type": "code",
   "execution_count": null,
   "metadata": {
    "collapsed": false,
    "scrolled": false
   },
   "outputs": [],
   "source": [
    "import org.apache.flink.api.scala._\n",
    "import org.apache.flink.api.common.typeinfo.TypeInformation\n",
    "import org.apache.flink.client._\n",
    "\n",
    "val env = ExecutionEnvironment.getExecutionEnvironment\n",
    "\n",
    "val text = env.fromElements(\"To be, or not to be,--that is the question:--\",\n",
    "      \"Whether 'tis nobler in the mind to suffer\", \"The slings and arrows of outrageous fortune\",\n",
    "      \"Or to take arms against a sea of troubles,\")\n",
    "\n",
    "val counts = text.flatMap { _.toLowerCase.split(\"\\\\W+\") }\n",
    "  .map { (_, 1) }\n",
    "  .groupBy(0)\n",
    "  .sum(1)\n",
    "\n",
    "// emit result\n",
    "counts.print()"
   ]
  }
 ],
 "metadata": {
  "kernelspec": {
   "display_name": "Scala 2.11",
   "language": "scala211",
   "name": "scala211"
  },
  "language_info": {
   "codemirror_mode": "text/x-scala",
   "file_extension": ".scala",
   "mimetype": "text/x-scala",
   "name": "scala211",
   "pygments_lexer": "scala",
   "version": "2.11.7"
  }
 },
 "nbformat": 4,
 "nbformat_minor": 0
}
