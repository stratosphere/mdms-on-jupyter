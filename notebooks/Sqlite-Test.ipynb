{
 "cells": [
  {
   "cell_type": "code",
   "execution_count": 4,
   "metadata": {
    "collapsed": false
   },
   "outputs": [
    {
     "name": "stdout",
     "output_type": "stream",
     "text": [
      "Adding 3 artifact(s)\n"
     ]
    },
    {
     "data": {
      "text/plain": []
     },
     "metadata": {},
     "output_type": "display_data"
    }
   ],
   "source": [
    "val pathToMDMS = \"/home/lawrence/repos/metadata-ms/mdms\"\n",
    "classpath.addPath(s\"$pathToMDMS/mdms-sqlite/target/mdms-sqlite-0.0.3-SNAPSHOT.jar\")\n",
    "classpath.addPath(s\"$pathToMDMS/mdms-rdbms/target/mdms-rdbms-0.0.3-SNAPSHOT.jar\")\n",
    "classpath.addPath(s\"$pathToMDMS/mdms-model/target/mdms-model-0.0.3-SNAPSHOT.jar\")\n",
    "classpath.addPath(s\"$pathToMDMS/mdms-util/target/mdms-util-0.0.3-SNAPSHOT.jar\")\n",
    "classpath.add(\"org.xerial\" % \"sqlite-jdbc\" % \"3.8.11.2\")\n",
    "classpath.add(\"org.slf4j\" % \"slf4j-log4j12\" % \"1.2\")"
   ]
  },
  {
   "cell_type": "code",
   "execution_count": null,
   "metadata": {
    "collapsed": false
   },
   "outputs": [],
   "source": [
    "classpath.path() foreach { p => println(p) }"
   ]
  },
  {
   "cell_type": "code",
   "execution_count": 6,
   "metadata": {
    "collapsed": false
   },
   "outputs": [
    {
     "ename": "",
     "evalue": "",
     "output_type": "error",
     "traceback": [
      "java.lang.reflect.InvocationTargetException",
      "  sun.reflect.NativeMethodAccessorImpl.invoke0(Native Method)",
      "  sun.reflect.NativeMethodAccessorImpl.invoke(NativeMethodAccessorImpl.java:62)",
      "  sun.reflect.DelegatingMethodAccessorImpl.invoke(DelegatingMethodAccessorImpl.java:43)",
      "  java.lang.reflect.Method.invoke(Method.java:498)",
      "  ammonite.Interpreter$$anonfun$evaluate$1$$anonfun$apply$9.apply(Interpreter.scala:325)",
      "  ammonite.Interpreter$.evaluating(Interpreter.scala:291)",
      "  ammonite.Interpreter$$anonfun$evaluate$1.apply(Interpreter.scala:325)",
      "  ammonite.Interpreter$$anonfun$evaluate$1.apply(Interpreter.scala:324)",
      "  ammonite.InterpreterAction$$anon$1.apply(Interpreter.scala:57)",
      "  ammonite.InterpreterAction$$anonfun$flatMap$1.apply(Interpreter.scala:44)",
      "  ammonite.InterpreterAction$$anonfun$flatMap$1.apply(Interpreter.scala:43)",
      "  ammonite.InterpreterAction$$anon$1.apply(Interpreter.scala:57)",
      "  ammonite.Interpreter$$anon$5$$anonfun$flatMap$5.apply(Interpreter.scala:303)",
      "  ammonite.Interpreter$$anon$5$$anonfun$flatMap$5.apply(Interpreter.scala:302)",
      "  ammonite.InterpreterAction$$anon$1.apply(Interpreter.scala:57)",
      "  ammonite.InterpreterAction$$anonfun$flatMap$1$$anonfun$apply$3.apply(Interpreter.scala:44)",
      "  ammonite.InterpreterAction$$anonfun$flatMap$1$$anonfun$apply$3.apply(Interpreter.scala:44)",
      "  scala.util.Either$RightProjection.flatMap(Either.scala:522)",
      "  ammonite.InterpreterAction$$anonfun$flatMap$1.apply(Interpreter.scala:44)",
      "  ammonite.InterpreterAction$$anonfun$flatMap$1.apply(Interpreter.scala:43)",
      "  ammonite.InterpreterAction$$anon$1.apply(Interpreter.scala:57)",
      "  ammonite.InterpreterAction$$anonfun$flatMap$1$$anonfun$apply$3.apply(Interpreter.scala:44)",
      "  ammonite.InterpreterAction$$anonfun$flatMap$1$$anonfun$apply$3.apply(Interpreter.scala:44)",
      "  scala.util.Either$RightProjection.flatMap(Either.scala:522)",
      "  ammonite.InterpreterAction$$anonfun$flatMap$1.apply(Interpreter.scala:44)",
      "  ammonite.InterpreterAction$$anonfun$flatMap$1.apply(Interpreter.scala:43)",
      "  ammonite.InterpreterAction$$anon$1.apply(Interpreter.scala:57)",
      "  ammonite.InterpreterAction$$anonfun$flatMap$1$$anonfun$apply$3.apply(Interpreter.scala:44)",
      "  ammonite.InterpreterAction$$anonfun$flatMap$1$$anonfun$apply$3.apply(Interpreter.scala:44)",
      "  scala.util.Either$RightProjection.flatMap(Either.scala:522)",
      "  ammonite.InterpreterAction$$anonfun$flatMap$1.apply(Interpreter.scala:44)",
      "  ammonite.InterpreterAction$$anonfun$flatMap$1.apply(Interpreter.scala:43)",
      "  ammonite.InterpreterAction$$anon$1.apply(Interpreter.scala:57)",
      "  ammonite.InterpreterAction$$anonfun$flatMap$1$$anonfun$apply$3.apply(Interpreter.scala:44)",
      "  ammonite.InterpreterAction$$anonfun$flatMap$1$$anonfun$apply$3.apply(Interpreter.scala:44)",
      "  scala.util.Either$RightProjection.flatMap(Either.scala:522)",
      "  ammonite.InterpreterAction$$anonfun$flatMap$1.apply(Interpreter.scala:44)",
      "  ammonite.InterpreterAction$$anonfun$flatMap$1.apply(Interpreter.scala:43)",
      "  ammonite.InterpreterAction$$anon$1.apply(Interpreter.scala:57)",
      "  ammonite.InterpreterAction$$anonfun$flatMap$1$$anonfun$apply$3.apply(Interpreter.scala:44)",
      "  ammonite.InterpreterAction$$anonfun$flatMap$1$$anonfun$apply$3.apply(Interpreter.scala:44)",
      "  scala.util.Either$RightProjection.flatMap(Either.scala:522)",
      "  ammonite.InterpreterAction$$anonfun$flatMap$1.apply(Interpreter.scala:44)",
      "  ammonite.InterpreterAction$$anonfun$flatMap$1.apply(Interpreter.scala:43)",
      "  ammonite.InterpreterAction$$anon$1.apply(Interpreter.scala:57)",
      "  ammonite.InterpreterAction$$anonfun$flatMap$1$$anonfun$apply$3.apply(Interpreter.scala:44)",
      "  ammonite.InterpreterAction$$anonfun$flatMap$1$$anonfun$apply$3.apply(Interpreter.scala:44)",
      "  scala.util.Either$RightProjection.flatMap(Either.scala:522)",
      "  ammonite.InterpreterAction$$anonfun$flatMap$1.apply(Interpreter.scala:44)",
      "  ammonite.InterpreterAction$$anonfun$flatMap$1.apply(Interpreter.scala:43)",
      "  ammonite.InterpreterAction$$anon$1.apply(Interpreter.scala:57)",
      "  ammonite.InterpreterAction$$anonfun$flatMap$1$$anonfun$apply$3.apply(Interpreter.scala:44)",
      "  ammonite.InterpreterAction$$anonfun$flatMap$1$$anonfun$apply$3.apply(Interpreter.scala:44)",
      "  scala.util.Either$RightProjection.flatMap(Either.scala:522)",
      "  ammonite.InterpreterAction$$anonfun$flatMap$1.apply(Interpreter.scala:44)",
      "  ammonite.InterpreterAction$$anonfun$flatMap$1.apply(Interpreter.scala:43)",
      "  ammonite.InterpreterAction$$anon$1.apply(Interpreter.scala:57)",
      "  ammonite.Interpreter$$anon$4$$anonfun$flatMap$4.apply(Interpreter.scala:246)",
      "  ammonite.Interpreter$$anon$4$$anonfun$flatMap$4.apply(Interpreter.scala:240)",
      "  ammonite.InterpreterAction$$anon$1.apply(Interpreter.scala:57)",
      "  ammonite.Interpreter$$anon$3$$anonfun$flatMap$3$$anonfun$apply$7.apply(Interpreter.scala:232)",
      "  ammonite.Interpreter$$anon$3$$anonfun$flatMap$3$$anonfun$apply$7.apply(Interpreter.scala:232)",
      "  ammonite.util.Capture$$anonfun$ammonite$util$Capture$$withErr$1.apply(Capture.scala:46)",
      "  scala.util.DynamicVariable.withValue(DynamicVariable.scala:58)",
      "  scala.Console$.withErr(Console.scala:80)",
      "  ammonite.util.Capture$.ammonite$util$Capture$$withErr(Capture.scala:42)",
      "  ammonite.util.Capture$$anonfun$3.apply(Capture.scala:59)",
      "  ammonite.util.Capture$$anonfun$withOut$1.apply(Capture.scala:37)",
      "  scala.util.DynamicVariable.withValue(DynamicVariable.scala:58)",
      "  scala.Console$.withOut(Console.scala:53)",
      "  ammonite.util.Capture$.withOut(Capture.scala:33)",
      "  ammonite.util.Capture$.withOutAndErr(Capture.scala:59)",
      "  ammonite.util.Capture$.apply(Capture.scala:106)",
      "  ammonite.Interpreter$$anon$3$$anonfun$flatMap$3.apply(Interpreter.scala:232)",
      "  ammonite.Interpreter$$anon$3$$anonfun$flatMap$3.apply(Interpreter.scala:231)",
      "  ammonite.InterpreterAction$$anon$1.apply(Interpreter.scala:57)",
      "  ammonite.InterpreterAction$$anonfun$flatMap$1$$anonfun$apply$3.apply(Interpreter.scala:44)",
      "  ammonite.InterpreterAction$$anonfun$flatMap$1$$anonfun$apply$3.apply(Interpreter.scala:44)",
      "  scala.util.Either$RightProjection.flatMap(Either.scala:522)",
      "  ammonite.InterpreterAction$$anonfun$flatMap$1.apply(Interpreter.scala:44)",
      "  ammonite.InterpreterAction$$anonfun$flatMap$1.apply(Interpreter.scala:43)",
      "  ammonite.InterpreterAction$$anon$1.apply(Interpreter.scala:57)",
      "  ammonite.Interpreter$$anon$2$$anonfun$flatMap$2.apply(Interpreter.scala:205)",
      "  ammonite.Interpreter$$anon$2$$anonfun$flatMap$2.apply(Interpreter.scala:204)",
      "  ammonite.InterpreterAction$$anon$1.apply(Interpreter.scala:57)",
      "  ammonite.InterpreterAction$$anonfun$flatMap$1.apply(Interpreter.scala:44)",
      "  ammonite.InterpreterAction$$anonfun$flatMap$1.apply(Interpreter.scala:43)",
      "  ammonite.InterpreterAction$$anon$1.apply(Interpreter.scala:57)",
      "  ammonite.InterpreterAction$$anonfun$flatMap$1$$anonfun$apply$3.apply(Interpreter.scala:44)",
      "  ammonite.InterpreterAction$$anonfun$flatMap$1$$anonfun$apply$3.apply(Interpreter.scala:44)",
      "  scala.util.Either$RightProjection.flatMap(Either.scala:522)",
      "  ammonite.InterpreterAction$$anonfun$flatMap$1.apply(Interpreter.scala:44)",
      "  ammonite.InterpreterAction$$anonfun$flatMap$1.apply(Interpreter.scala:43)",
      "  ammonite.InterpreterAction$$anon$1.apply(Interpreter.scala:57)",
      "  jupyter.scala.ScalaInterpreter$$anon$2.interpret(ScalaInterpreter.scala:209)",
      "  jupyter.kernel.interpreter.InterpreterHandler$$anonfun$execute$1$$anonfun$apply$6.apply(InterpreterHandler.scala:118)",
      "  jupyter.kernel.interpreter.InterpreterHandler$$anonfun$execute$1$$anonfun$apply$6.apply(InterpreterHandler.scala:100)",
      "  jupyter.kernel.interpreter.InterpreterHandler$$anonfun$jupyter$kernel$interpreter$InterpreterHandler$$publishing$1$$anonfun$2.apply(InterpreterHandler.scala:68)",
      "  jupyter.kernel.interpreter.InterpreterHandler$$anonfun$jupyter$kernel$interpreter$InterpreterHandler$$publishing$1$$anonfun$2.apply(InterpreterHandler.scala:68)",
      "  scalaz.concurrent.Task$.Try(Task.scala:386)",
      "  scalaz.concurrent.Task$$anonfun$unsafeStart$1.apply(Task.scala:295)",
      "  scalaz.concurrent.Task$$anonfun$unsafeStart$1.apply(Task.scala:295)",
      "  scalaz.concurrent.Future$$anonfun$apply$15$$anon$4.call(Future.scala:380)",
      "  scalaz.concurrent.Future$$anonfun$apply$15$$anon$4.call(Future.scala:380)",
      "  java.util.concurrent.FutureTask.run(FutureTask.java:266)",
      "  java.util.concurrent.ThreadPoolExecutor.runWorker(ThreadPoolExecutor.java:1142)",
      "  java.util.concurrent.ThreadPoolExecutor$Worker.run(ThreadPoolExecutor.java:617)",
      "  java.lang.Thread.run(Thread.java:745)",
      "java.lang.NoClassDefFoundError: Could not initialize class de.hpi.isg.mdms.rdbms.SQLiteInterface (Could not initialize class de.hpi.isg.mdms.rdbms.SQLiteInterface)",
      "  cmd5$$user$$anonfun$3.apply(Main.scala:30)",
      "  cmd5$$user$$anonfun$3.apply(Main.scala:29)"
     ]
    }
   ],
   "source": [
    "import de.hpi.isg.mdms.rdbms._\n",
    "import java.sql._\n",
    "\n",
    "Class.forName(\"org.sqlite.JDBC\")\n",
    "val conn: Connection = DriverManager.getConnection(\"jdbc:sqlite:/home/lawrence/Downloads/metadata-store\")\n",
    "val interface = new SQLiteInterface(conn)\n",
    "\n",
    "// val a = new SQLiteConstraintHandler(interface)"
   ]
  }
 ],
 "metadata": {
  "kernelspec": {
   "display_name": "Scala 2.11",
   "language": "scala211",
   "name": "scala211"
  },
  "language_info": {
   "codemirror_mode": "text/x-scala",
   "file_extension": ".scala",
   "mimetype": "text/x-scala",
   "name": "scala211",
   "pygments_lexer": "scala",
   "version": "2.11.7"
  }
 },
 "nbformat": 4,
 "nbformat_minor": 0
}
