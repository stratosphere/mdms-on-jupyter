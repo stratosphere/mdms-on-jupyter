{
 "cells": [
  {
   "cell_type": "code",
   "execution_count": null,
   "metadata": {
    "collapsed": false
   },
   "outputs": [],
   "source": [
    "// All current dependencies. To be replaced by mdms assembly.\n",
    "\n",
    "val pathToMDMS = \"/home/lawrence/repos/metadata-ms/mdms\"\n",
    "classpath.addPath(s\"$pathToMDMS/mdms-sqlite/target/mdms-sqlite-0.0.3-SNAPSHOT.jar\")\n",
    "classpath.addPath(s\"$pathToMDMS/mdms-rdbms/target/mdms-rdbms-0.0.3-SNAPSHOT.jar\")\n",
    "classpath.addPath(s\"$pathToMDMS/mdms-model/target/mdms-model-0.0.3-SNAPSHOT.jar\")\n",
    "classpath.addPath(s\"$pathToMDMS/mdms-util/target/mdms-util-0.0.3-SNAPSHOT.jar\")\n",
    "classpath.addPath(s\"$pathToMDMS/mdms-flink/target/mdms-flink-0.0.3-SNAPSHOT.jar\")\n",
    "classpath.addPath(s\"$pathToMDMS/mdms-clients/target/mdms-clients-0.0.3-SNAPSHOT.jar\")\n",
    "classpath.addPath(s\"$pathToMDMS/mdms-dependencies/target/mdms-dependencies-0.0.3-SNAPSHOT.jar\")\n",
    "classpath.add(\"org.xerial\" % \"sqlite-jdbc\" % \"3.8.11.2\")\n",
    "classpath.add(\"org.slf4j\" % \"slf4j-log4j12\" % \"1.7.7\")\n",
    "classpath.add(\"org.apache.commons\" % \"commons-io\" % \"1.3.2\")\n",
    "classpath.add(\"org.apache.commons\" % \"commons-lang3\" % \"3.0\")\n",
    "classpath.add(\"it.unimi.dsi\" % \"fastutil\" % \"6.5.15\")\n",
    "classpath.add(\"org.slf4j\" % \"slf4j-simple\" % \"1.7.13\")\n",
    "classpath.add(\"org.json\" % \"json\" % \"20151123\")"
   ]
  },
  {
   "cell_type": "code",
   "execution_count": null,
   "metadata": {
    "collapsed": false,
    "scrolled": true
   },
   "outputs": [],
   "source": [
    "// Inspect classpath\n",
    "classpath.path() foreach { p => println(p) }"
   ]
  },
  {
   "cell_type": "code",
   "execution_count": null,
   "metadata": {
    "collapsed": false
   },
   "outputs": [],
   "source": [
    "// Get Metadatastore from existing sqlite.\n",
    "\n",
    "import de.hpi.isg.mdms.rdbms._\n",
    "import de.hpi.isg.mdms.domain._\n",
    "import de.hpi.isg.mdms.clients.util.MetadataStoreUtil\n",
    "import de.hpi.isg.mdms.clients.parameters.MetadataStoreParameters\n",
    "import de.hpi.isg.mdms.domain.util.SQLiteConstraintUtils\n",
    "import java.io._\n",
    "\n",
    "// This method failes, as the standard constraints aren't registered. \n",
    "// val file = new File(\"/home/lawrence/Downloads/metadata-store\")\n",
    "// val interface = SQLiteInterface.createForFile(file)\n",
    "// val mds = RDBMSMetadataStore.load(interface)\n",
    "\n",
    "val mdsParams = new MetadataStoreParameters()\n",
    "mdsParams.metadataStore = \"/home/lawrence/Downloads/metadata-store\"\n",
    "val mds = MetadataStoreUtil.loadMetadataStore(mdsParams)"
   ]
  },
  {
   "cell_type": "code",
   "execution_count": 14,
   "metadata": {
    "collapsed": false
   },
   "outputs": [
    {
     "data": {
      "text/plain": [
       "\u001b[32mimport \u001b[36mscala.collection.JavaConverters._\u001b[0m\n",
       "\u001b[36mconstraintColl\u001b[0m: \u001b[32mde\u001b[0m.\u001b[32mhpi\u001b[0m.\u001b[32misg\u001b[0m.\u001b[32mmdms\u001b[0m.\u001b[32mmodel\u001b[0m.\u001b[32mconstraints\u001b[0m.\u001b[32mConstraintCollection\u001b[0m = RDBMSConstraintCollection [scope=[Schema[musicbrainz, , 00ffffff]], getId()=1952386454]\n",
       "\u001b[36mcontraints\u001b[0m: \u001b[32mIterable\u001b[0m[\u001b[32mde\u001b[0m.\u001b[32mhpi\u001b[0m.\u001b[32misg\u001b[0m.\u001b[32mmdms\u001b[0m.\u001b[32mmodel\u001b[0m.\u001b[32mconstraints\u001b[0m.\u001b[32mConstraint\u001b[0m] = \u001b[33mWrappers\u001b[0m(\n",
       "  de.hpi.isg.mdms.domain.constraints.NumberColumnStatistics@3cffbcff,\n",
       "  de.hpi.isg.mdms.domain.constraints.NumberColumnStatistics@1a7a1a7,\n",
       "  de.hpi.isg.mdms.domain.constraints.NumberColumnStatistics@17d897d8,\n",
       "  de.hpi.isg.mdms.domain.constraints.NumberColumnStatistics@1ee1bee3,\n",
       "  de.hpi.isg.mdms.domain.constraints.ColumnStatistics@3f3ebf3c,\n",
       "  de.hpi.isg.mdms.domain.constraints.ColumnStatistics@614ee14d,\n",
       "  de.hpi.isg.mdms.domain.constraints.ColumnStatistics@4fe32fe0,\n",
       "  de.hpi.isg.mdms.domain.constraints.ColumnStatistics@c34ac33,\n",
       "  de.hpi.isg.mdms.domain.constraints.TextColumnStatistics@647ee477,\n",
       "  de.hpi.isg.mdms.domain.constraints.NumberColumnStatistics@3fb03fbe,\n",
       "  de.hpi.isg.mdms.domain.constraints.ColumnStatistics@330e3300,\n",
       "  TupleCount[SingleTargetReference[1163263], numTuples=19],\n",
       "  de.hpi.isg.mdms.domain.constraints.ColumnStatistics@e120e02,\n",
       "  de.hpi.isg.mdms.domain.constraints.ColumnStatistics@21204135,\n",
       "  de.hpi.isg.mdms.domain.constraints.NumberColumnStatistics@6ca82cbe,\n",
       "  de.hpi.isg.mdms.domain.constraints.ColumnStatistics@40cfc0d8,\n",
       "  de.hpi.isg.mdms.domain.constraints.NumberColumnStatistics@2a516a48,\n",
       "  de.hpi.isg.mdms.domain.constraints.ColumnStatistics@1c4bbc52,\n",
       "  de.hpi.isg.mdms.domain.constraints.NumberColumnStatistics@25ca65d6,\n",
       "\u001b[33m...\u001b[0m"
      ]
     },
     "metadata": {},
     "output_type": "display_data"
    }
   ],
   "source": [
    "import scala.collection.JavaConverters._\n",
    "\n",
    "// Get all constraints of a certain Collection.\n",
    "val constraintColl = mds.getConstraintCollection(1952386454)\n",
    "val contraints = constraintColl.getConstraints.asScala"
   ]
  },
  {
   "cell_type": "code",
   "execution_count": 15,
   "metadata": {
    "collapsed": false
   },
   "outputs": [
    {
     "data": {
      "text/plain": [
       "\u001b[32mimport \u001b[36mscala.collection.JavaConverters._\u001b[0m\n",
       "\u001b[36mres14_1\u001b[0m: \u001b[32mIterable\u001b[0m[\u001b[32mde\u001b[0m.\u001b[32mhpi\u001b[0m.\u001b[32misg\u001b[0m.\u001b[32mmdms\u001b[0m.\u001b[32mmodel\u001b[0m.\u001b[32mtargets\u001b[0m.\u001b[32mTargetReference\u001b[0m] = \u001b[33mList\u001b[0m(\n",
       "  Reference [uniqueColumns=[606208, 606209]],\n",
       "  Reference [uniqueColumns=[733186, 733187]],\n",
       "  Reference [uniqueColumns=[933893, 933895]],\n",
       "  Reference [uniqueColumns=[593920, 593921]],\n",
       "  Reference [uniqueColumns=[618496, 618499]],\n",
       "  Reference [uniqueColumns=[765954, 765957]],\n",
       "  Reference [uniqueColumns=[45057, 45058, 45059]],\n",
       "  Reference [uniqueColumns=[552960, 552961]],\n",
       "  Reference [uniqueColumns=[856067, 856068]],\n",
       "  Reference [uniqueColumns=[655360, 655361]],\n",
       "  Reference [uniqueColumns=[1028096, 1028098, 1028099]],\n",
       "  Reference [uniqueColumns=[872451, 872452]],\n",
       "  Reference [uniqueColumns=[757761, 757763]],\n",
       "  Reference [uniqueColumns=[958469, 958471]],\n",
       "  Reference [uniqueColumns=[622592, 622593]],\n",
       "  Reference [uniqueColumns=[765953, 765959]],\n",
       "  Reference [uniqueColumns=[765953, 765954]],\n",
       "  Reference [uniqueColumns=[614400, 614401]],\n",
       "  Reference [uniqueColumns=[843779, 843781]],\n",
       "\u001b[33m...\u001b[0m"
      ]
     },
     "metadata": {},
     "output_type": "display_data"
    }
   ],
   "source": [
    "\n",
    "import scala.collection.JavaConverters._\n",
    "\n",
    "mds.getConstraintCollections.asScala.map(_.getConstraints.asScala).flatMap(c => c.map(_.getTargetReference))"
   ]
  }
 ],
 "metadata": {
  "kernelspec": {
   "display_name": "Scala 2.11",
   "language": "scala211",
   "name": "scala211"
  },
  "language_info": {
   "codemirror_mode": "text/x-scala",
   "file_extension": ".scala",
   "mimetype": "text/x-scala",
   "name": "scala211",
   "pygments_lexer": "scala",
   "version": "2.11.7"
  }
 },
 "nbformat": 4,
 "nbformat_minor": 0
}
